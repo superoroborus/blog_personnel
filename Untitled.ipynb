{
 "cells": [
  {
   "cell_type": "code",
   "execution_count": null,
   "id": "264c73ce-c200-4a52-8507-3bb81b04bdd2",
   "metadata": {},
   "outputs": [],
   "source": [
    "# Create a new directory for Django blog project\n",
    "mkdir django-blog\n",
    "# Change current directory to django-blog folder\n",
    "cd django-blog"
   ]
  },
  {
   "cell_type": "code",
   "execution_count": null,
   "id": "5b6fe584-3598-4c1c-b6dc-69d507dfda3b",
   "metadata": {},
   "outputs": [],
   "source": [
    "PS> python -m venv venv"
   ]
  },
  {
   "cell_type": "code",
   "execution_count": null,
   "id": "d2fa615a-56f6-4078-b813-a8555dd33662",
   "metadata": {},
   "outputs": [],
   "source": [
    "# Activate the Python virtual environment using PowerShell\n",
    "PS> .\\venv\\Scripts\\activate\n",
    "\n",
    "# Command prompt shows (venv) to indicate virtual environment is active\n",
    "(venv) PS>"
   ]
  },
  {
   "cell_type": "code",
   "execution_count": 7,
   "id": "b241544b-7e88-43a0-b65d-6d89947580dd",
   "metadata": {},
   "outputs": [
    {
     "name": "stdout",
     "output_type": "stream",
     "text": [
      "Collecting Django\n",
      "  Downloading Django-5.1.6-py3-none-any.whl.metadata (4.2 kB)\n",
      "Collecting asgiref<4,>=3.8.1 (from Django)\n",
      "  Downloading asgiref-3.8.1-py3-none-any.whl.metadata (9.3 kB)\n",
      "Collecting sqlparse>=0.3.1 (from Django)\n",
      "  Downloading sqlparse-0.5.3-py3-none-any.whl.metadata (3.9 kB)\n",
      "Requirement already satisfied: tzdata in c:\\users\\valise\\anaconda3\\lib\\site-packages (from Django) (2023.3)\n",
      "Downloading Django-5.1.6-py3-none-any.whl (8.3 MB)\n",
      "   ---------------------------------------- 0.0/8.3 MB ? eta -:--:--\n",
      "   ---------------------------------------- 0.0/8.3 MB ? eta -:--:--\n",
      "   ----- ---------------------------------- 1.0/8.3 MB 4.2 MB/s eta 0:00:02\n",
      "   ------------------------- -------------- 5.2/8.3 MB 12.7 MB/s eta 0:00:01\n",
      "   ---------------------------------------- 8.3/8.3 MB 15.5 MB/s eta 0:00:00\n",
      "Downloading asgiref-3.8.1-py3-none-any.whl (23 kB)\n",
      "Downloading sqlparse-0.5.3-py3-none-any.whl (44 kB)\n",
      "Installing collected packages: sqlparse, asgiref, Django\n",
      "Successfully installed Django-5.1.6 asgiref-3.8.1 sqlparse-0.5.3\n"
     ]
    }
   ],
   "source": [
    "!python -m pip install Django"
   ]
  },
  {
   "cell_type": "code",
   "execution_count": 9,
   "id": "8c900fc1-8767-45ff-abca-d675e21d50f1",
   "metadata": {},
   "outputs": [
    {
     "ename": "SyntaxError",
     "evalue": "invalid syntax (4175941459.py, line 1)",
     "output_type": "error",
     "traceback": [
      "\u001b[1;36m  Cell \u001b[1;32mIn[9], line 1\u001b[1;36m\u001b[0m\n\u001b[1;33m    (venv) $ django-admin startproject personal_blog .\u001b[0m\n\u001b[1;37m           ^\u001b[0m\n\u001b[1;31mSyntaxError\u001b[0m\u001b[1;31m:\u001b[0m invalid syntax\n"
     ]
    }
   ],
   "source": [
    "(venv) $ django-admin startproject personal_blog ."
   ]
  },
  {
   "cell_type": "code",
   "execution_count": null,
   "id": "54e990d1-8dcc-4251-96d3-2bcd8cfce0b5",
   "metadata": {},
   "outputs": [],
   "source": []
  },
  {
   "cell_type": "code",
   "execution_count": null,
   "id": "94b4fb16-bdbc-49c4-9fbf-a2d95599d4b3",
   "metadata": {},
   "outputs": [],
   "source": []
  }
 ],
 "metadata": {
  "kernelspec": {
   "display_name": "Python [conda env:base] *",
   "language": "python",
   "name": "conda-base-py"
  },
  "language_info": {
   "codemirror_mode": {
    "name": "ipython",
    "version": 3
   },
   "file_extension": ".py",
   "mimetype": "text/x-python",
   "name": "python",
   "nbconvert_exporter": "python",
   "pygments_lexer": "ipython3",
   "version": "3.12.7"
  }
 },
 "nbformat": 4,
 "nbformat_minor": 5
}
